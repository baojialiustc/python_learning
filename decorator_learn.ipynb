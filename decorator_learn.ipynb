{
  "cells": [
    {
      "cell_type": "markdown",
      "metadata": {
        "collapsed": true,
        "pycharm": {
          "name": "#%% md\n"
        }
      },
      "source": "## Decorator learning\n临时增强函数的功能。通过在函数前，增加@decorator来实现。\n实质上是decorator以被增强函数作为输入，输出被分装之后的函数。\n分装函数可以是class或者function.\n这有助于帮助我们用相同的代码分装多个function。\n"
    },
    {
      "cell_type": "code",
      "execution_count": 1,
      "outputs": [
        {
          "name": "stdout",
          "text": [
            "Before function execution\nto be decorated function\nThis is after function execution\n"
          ],
          "output_type": "stream"
        }
      ],
      "source": "# define a decorator\ndef decorator_f(func):\n    \n    # define wrapper function \n    # in which the argument is called\n    \n    # inner function can access the outer local function\n    def wrapper():\n        print(\"Before function execution\")\n        # calling the actual function\n        func()\n        print(\"This is after function execution\")\n    return wrapper\n\n# define a function to be wrappered\n@decorator_f\ndef func():\n    print(\"to be decorated function\")\n\n# call function\nfunc()",
      "metadata": {
        "pycharm": {
          "metadata": false,
          "name": "#%%\n",
          "is_executing": false
        }
      }
    },
    {
      "cell_type": "code",
      "execution_count": 2,
      "outputs": [
        {
          "name": "stdout",
          "text": [
            "3628800\nTotal time taken in: factorial 2.000649929046631\n"
          ],
          "output_type": "stream"
        }
      ],
      "source": "# add execution calculation decorator\nimport time\nimport math\n\n# decorator to calculate duration\n# taken by any function\ndef cal_tim(func):\n    # added arguments inside the inner1, \n    # if function takes any arguments, \n    # can be added like this.\n    def inner1(*arg, **kwargs):\n        begin \u003d time.time()\n        func(*arg, **kwargs)\n        \n        # storing time after function execution\n        end \u003d time.time()\n        print(\"Total time taken in:\", func.__name__, end-begin)\n        \n    return inner1\n\n@cal_tim\ndef factorial(num):\n    # sleep 2 seconds because it takes very less time \n    # so that you can see the actual difference \n    time.sleep(2) \n    print(math.factorial(num))\n    \n# calling decorated function\nfactorial(10)\n    \n",
      "metadata": {
        "pycharm": {
          "metadata": false,
          "name": "#%%\n",
          "is_executing": false
        }
      }
    },
    {
      "cell_type": "code",
      "execution_count": 3,
      "outputs": [
        {
          "name": "stdout",
          "text": [
            "before execution\ninside function\nafter execution\nsum is 5\n"
          ],
          "output_type": "stream"
        }
      ],
      "source": "# if the need to be decorated function have return value\ndef decorator_for_return(func):\n    def inner1(*arg, **kwargs):\n        print(\"before execution\")\n        \n        # getting the return value\n        return_v \u003d func(*arg, **kwargs)\n        print(\"after execution\")\n        \n        # returning value to the original grame\n        return return_v\n    return inner1\n\n# adding decorator to the function\n@decorator_for_return\ndef sum_2_nums(a, b):\n    print(\u0027inside function\u0027)\n    return a+b\n\n# calling function\nprint(\u0027sum is\u0027, sum_2_nums(2, 3))",
      "metadata": {
        "pycharm": {
          "metadata": false,
          "name": "#%%\n",
          "is_executing": false
        }
      }
    },
    {
      "cell_type": "code",
      "execution_count": 4,
      "outputs": [
        {
          "name": "stdout",
          "text": [
            "after call\nbefore call\ninside function\n"
          ],
          "output_type": "stream"
        },
        {
          "data": {
            "text/plain": "5"
          },
          "metadata": {},
          "output_type": "execute_result",
          "execution_count": 4
        }
      ],
      "source": "# the return function don\u0027t contains the parameter of original function\n# function is a kind of class \n# In order to make decorated function with same parameter with original function\n# we can use decorator in package functools to decorated wrapper function\nimport functools\ndef log(function_name):\n    def decorator(func):\n        @functools.wraps(func)\n        def wrapper(*args, **kwargs):\n            print(\"before call\")           \n            return func(*args, **kwargs)\n        print(\"after call\")\n        return wrapper\n    return decorator\n    \n@log(\u0027decorator\u0027)\ndef sum_2_nums(a, b):\n    print(\u0027inside function\u0027)\n    return a+b\n\n# calling function\nsum_2_nums(2, 3)",
      "metadata": {
        "pycharm": {
          "metadata": false,
          "name": "#%%\n",
          "is_executing": false
        }
      }
    },
    {
      "cell_type": "code",
      "execution_count": 6,
      "outputs": [
        {
          "name": "stdout",
          "text": [
            "before call\ninside call\nafter call\nsum of two numbers:  5\n"
          ],
          "output_type": "stream"
        }
      ],
      "source": "# use class as  a decorator\n# define decorator class\nclass MyDecorator:\n    def __init__(self, function):\n        self.function \u003d function\n        \n    def __call__(self, *args, **kwargs):\n        \n        print(\"before call\")\n        results \u003d self.function(*args, **kwargs)\n        print(\"after call\")\n        \n        return results\n\n@MyDecorator\ndef sum_2_nums(a, b):\n    print(\"inside call\")\n    return a+b\n\nprint(\"sum of two numbers: \", sum_2_nums(2, 3))",
      "metadata": {
        "pycharm": {
          "metadata": false,
          "name": "#%%\n",
          "is_executing": false
        }
      }
    },
    {
      "cell_type": "code",
      "execution_count": 7,
      "outputs": [
        {
          "traceback": [
            "\u001b[1;31m---------------------------------------------------------------------------\u001b[0m",
            "\u001b[1;31mTypeError\u001b[0m                                 Traceback (most recent call last)",
            "\u001b[1;32m\u003cipython-input-7-079aaa2901e5\u003e\u001b[0m in \u001b[0;36m\u003cmodule\u003e\u001b[1;34m()\u001b[0m\n\u001b[0;32m     19\u001b[0m \u001b[1;31m# call function to test\u001b[0m\u001b[1;33m\u001b[0m\u001b[1;33m\u001b[0m\u001b[1;33m\u001b[0m\u001b[0m\n\u001b[0;32m     20\u001b[0m \u001b[0madd_numbers\u001b[0m\u001b[1;33m(\u001b[0m\u001b[1;36m1\u001b[0m\u001b[1;33m,\u001b[0m \u001b[1;36m2\u001b[0m\u001b[1;33m,\u001b[0m \u001b[1;36m3\u001b[0m\u001b[1;33m)\u001b[0m\u001b[1;33m\u001b[0m\u001b[1;33m\u001b[0m\u001b[0m\n\u001b[1;32m---\u003e 21\u001b[1;33m \u001b[0madd_numbers\u001b[0m\u001b[1;33m(\u001b[0m\u001b[1;36m1\u001b[0m\u001b[1;33m,\u001b[0m \u001b[1;34m\u00272\u0027\u001b[0m\u001b[1;33m)\u001b[0m\u001b[1;33m\u001b[0m\u001b[1;33m\u001b[0m\u001b[0m\n\u001b[0m\u001b[0;32m     22\u001b[0m \u001b[1;33m\u001b[0m\u001b[0m\n",
            "\u001b[1;32m\u003cipython-input-7-079aaa2901e5\u003e\u001b[0m in \u001b[0;36m__call__\u001b[1;34m(self, *args)\u001b[0m\n\u001b[0;32m      8\u001b[0m     \u001b[1;32mdef\u001b[0m \u001b[0m__call__\u001b[0m\u001b[1;33m(\u001b[0m\u001b[0mself\u001b[0m\u001b[1;33m,\u001b[0m \u001b[1;33m*\u001b[0m\u001b[0margs\u001b[0m\u001b[1;33m)\u001b[0m\u001b[1;33m:\u001b[0m\u001b[1;33m\u001b[0m\u001b[1;33m\u001b[0m\u001b[0m\n\u001b[0;32m      9\u001b[0m         \u001b[1;32mif\u001b[0m \u001b[0many\u001b[0m\u001b[1;33m(\u001b[0m\u001b[1;33m[\u001b[0m\u001b[0misinstance\u001b[0m\u001b[1;33m(\u001b[0m\u001b[0mi\u001b[0m\u001b[1;33m,\u001b[0m \u001b[0mstr\u001b[0m\u001b[1;33m)\u001b[0m \u001b[1;32mfor\u001b[0m \u001b[0mi\u001b[0m \u001b[1;32min\u001b[0m \u001b[0margs\u001b[0m\u001b[1;33m]\u001b[0m\u001b[1;33m)\u001b[0m\u001b[1;33m:\u001b[0m\u001b[1;33m\u001b[0m\u001b[1;33m\u001b[0m\u001b[0m\n\u001b[1;32m---\u003e 10\u001b[1;33m             \u001b[1;32mraise\u001b[0m \u001b[0mTypeError\u001b[0m\u001b[1;33m(\u001b[0m\u001b[1;34m\"parameter cannot be a string !!\"\u001b[0m\u001b[1;33m)\u001b[0m\u001b[1;33m\u001b[0m\u001b[1;33m\u001b[0m\u001b[0m\n\u001b[0m\u001b[0;32m     11\u001b[0m         \u001b[1;32melse\u001b[0m\u001b[1;33m:\u001b[0m\u001b[1;33m\u001b[0m\u001b[1;33m\u001b[0m\u001b[0m\n\u001b[0;32m     12\u001b[0m             \u001b[1;32mreturn\u001b[0m \u001b[0mself\u001b[0m\u001b[1;33m.\u001b[0m\u001b[0mfunction\u001b[0m\u001b[1;33m(\u001b[0m\u001b[1;33m*\u001b[0m\u001b[0margs\u001b[0m\u001b[1;33m)\u001b[0m\u001b[1;33m\u001b[0m\u001b[1;33m\u001b[0m\u001b[0m\n",
            "\u001b[1;31mTypeError\u001b[0m: parameter cannot be a string !!"
          ],
          "ename": "TypeError",
          "evalue": "parameter cannot be a string !!",
          "output_type": "error"
        }
      ],
      "source": "# application\n# error input parameter checking\nclass ErrorCheck:\n    \n    def __init__(self, function):\n        self.function \u003d function\n        \n    def __call__(self, *args):\n        if any([isinstance(i, str) for i in args]):\n            raise TypeError(\"parameter cannot be a string !!\")\n        else:\n            return self.function(*args)\n        \n# decorate function\n@ErrorCheck\ndef add_numbers(*numbers):\n    return sum(numbers)\n\n# call function to test\nadd_numbers(1, 2, 3)\nadd_numbers(1, \u00272\u0027)\n\n",
      "metadata": {
        "pycharm": {
          "metadata": false,
          "name": "#%%\n",
          "is_executing": false
        }
      }
    }
  ],
  "metadata": {
    "language_info": {
      "codemirror_mode": {
        "name": "ipython",
        "version": 2
      },
      "file_extension": ".py",
      "mimetype": "text/x-python",
      "name": "python",
      "nbconvert_exporter": "python",
      "pygments_lexer": "ipython2",
      "version": "2.7.6"
    },
    "kernelspec": {
      "name": "python3",
      "language": "python",
      "display_name": "Python 3"
    }
  },
  "nbformat": 4,
  "nbformat_minor": 0
}