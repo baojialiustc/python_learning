{
 "cells": [
  {
   "cell_type": "code",
   "execution_count": 4,
   "metadata": {},
   "outputs": [],
   "source": [
    "%load_ext tensorboard"
   ]
  },
  {
   "cell_type": "code",
   "execution_count": 17,
   "metadata": {},
   "outputs": [],
   "source": [
    "import tensorflow as tf\n",
    "import datetime"
   ]
  },
  {
   "cell_type": "code",
   "execution_count": 7,
   "metadata": {},
   "outputs": [],
   "source": [
    "# data\n",
    "mnist = tf.keras.datasets.mnist\n",
    "(x_train, y_train), (x_test, y_test) = mnist.load_data()\n",
    "x_train, x_test = x_train / 255.0, x_test / 255.0"
   ]
  },
  {
   "cell_type": "code",
   "execution_count": 9,
   "metadata": {},
   "outputs": [],
   "source": [
    "model = tf.keras.models.Sequential([\n",
    "  tf.keras.layers.Flatten(input_shape=(28, 28)),\n",
    "  tf.keras.layers.Dense(128, activation='relu'),\n",
    "  tf.keras.layers.Dropout(0.2),\n",
    "  tf.keras.layers.Dense(10, activation='softmax')\n",
    "])\n",
    "model.compile(optimizer='adam',\n",
    "              loss='sparse_categorical_crossentropy',\n",
    "              metrics=['accuracy'])\n",
    "log_dir=\"logs/fit/\" + datetime.datetime.now().strftime(\"%Y%m%d-%H%M%S\")\n",
    "tensorboard_callback = tf.keras.callbacks.TensorBoard(log_dir=log_dir, histogram_freq=1)"
   ]
  },
  {
   "cell_type": "code",
   "execution_count": 10,
   "metadata": {},
   "outputs": [
    {
     "name": "stdout",
     "output_type": "stream",
     "text": [
      "Train on 60000 samples, validate on 10000 samples\n",
      "Epoch 1/5\n",
      "   32/60000 [..............................] - ETA: 40:11 - loss: 2.2776 - accuracy: 0.1562"
     ]
    },
    {
     "name": "stderr",
     "output_type": "stream",
     "text": [
      "WARNING: Logging before flag parsing goes to stderr.\n",
      "W1217 21:01:45.211460 140267542554368 callbacks.py:244] Method (on_train_batch_end) is slow compared to the batch update (0.252878). Check your callbacks.\n"
     ]
    },
    {
     "name": "stdout",
     "output_type": "stream",
     "text": [
      "60000/60000 [==============================] - 9s 148us/sample - loss: 0.2992 - accuracy: 0.9131 - val_loss: 0.1358 - val_accuracy: 0.9599\n",
      "Epoch 2/5\n",
      "60000/60000 [==============================] - 7s 121us/sample - loss: 0.1420 - accuracy: 0.9575 - val_loss: 0.1004 - val_accuracy: 0.9680\n",
      "Epoch 3/5\n",
      "60000/60000 [==============================] - 7s 119us/sample - loss: 0.1086 - accuracy: 0.9667 - val_loss: 0.0873 - val_accuracy: 0.9725\n",
      "Epoch 4/5\n",
      "60000/60000 [==============================] - 7s 123us/sample - loss: 0.0875 - accuracy: 0.9728 - val_loss: 0.0748 - val_accuracy: 0.9771\n",
      "Epoch 5/5\n",
      "60000/60000 [==============================] - 7s 118us/sample - loss: 0.0737 - accuracy: 0.9766 - val_loss: 0.0759 - val_accuracy: 0.9763\n"
     ]
    },
    {
     "data": {
      "text/plain": [
       "<tensorflow.python.keras.callbacks.History at 0x7f921d188ef0>"
      ]
     },
     "execution_count": 10,
     "metadata": {},
     "output_type": "execute_result"
    }
   ],
   "source": [
    "model.fit(x=x_train, y=y_train,\n",
    "         epochs=5, validation_data=(x_test, y_test),\n",
    "         callbacks=[tensorboard_callback])"
   ]
  },
  {
   "cell_type": "code",
   "execution_count": 15,
   "metadata": {},
   "outputs": [
    {
     "name": "stdout",
     "output_type": "stream",
     "text": [
      "Requirement already satisfied: tensorboard in /home/lbj/.conda/envs/tensorflow-gpu/lib/python3.6/site-packages (2.0.0)\n",
      "Requirement already satisfied: six>=1.10.0 in /home/lbj/.conda/envs/tensorflow-gpu/lib/python3.6/site-packages (from tensorboard) (1.12.0)\n",
      "Requirement already satisfied: grpcio>=1.6.3 in /home/lbj/.conda/envs/tensorflow-gpu/lib/python3.6/site-packages (from tensorboard) (1.16.1)\n",
      "Requirement already satisfied: absl-py>=0.4 in /home/lbj/.conda/envs/tensorflow-gpu/lib/python3.6/site-packages (from tensorboard) (0.7.1)\n",
      "Requirement already satisfied: protobuf>=3.6.0 in /home/lbj/.conda/envs/tensorflow-gpu/lib/python3.6/site-packages (from tensorboard) (3.8.0)\n",
      "Requirement already satisfied: werkzeug>=0.11.15 in /home/lbj/.conda/envs/tensorflow-gpu/lib/python3.6/site-packages (from tensorboard) (0.15.5)\n",
      "Requirement already satisfied: wheel>=0.26; python_version >= \"3\" in /home/lbj/.conda/envs/tensorflow-gpu/lib/python3.6/site-packages (from tensorboard) (0.33.4)\n",
      "Requirement already satisfied: markdown>=2.6.8 in /home/lbj/.conda/envs/tensorflow-gpu/lib/python3.6/site-packages (from tensorboard) (3.1.1)\n",
      "Requirement already satisfied: numpy>=1.12.0 in /home/lbj/.conda/envs/tensorflow-gpu/lib/python3.6/site-packages (from tensorboard) (1.16.4)\n",
      "Requirement already satisfied: setuptools>=41.0.0 in /home/lbj/.conda/envs/tensorflow-gpu/lib/python3.6/site-packages (from tensorboard) (41.0.1)\n"
     ]
    }
   ],
   "source": [
    "!pip install tensorboard"
   ]
  },
  {
   "cell_type": "code",
   "execution_count": 19,
   "metadata": {},
   "outputs": [
    {
     "data": {
      "text/plain": [
       "ERROR: Could not find `tensorboard`. Please ensure that your PATH\n",
       "contains an executable `tensorboard` program, or explicitly specify\n",
       "the path to a TensorBoard binary by setting the `TENSORBOARD_BINARY`\n",
       "environment variable."
      ]
     },
     "metadata": {},
     "output_type": "display_data"
    }
   ],
   "source": [
    "%tensorboard --logdir logs/fit"
   ]
  }
 ],
 "metadata": {
  "kernelspec": {
   "display_name": "Python 3",
   "language": "python",
   "name": "python3"
  },
  "language_info": {
   "codemirror_mode": {
    "name": "ipython",
    "version": 3
   },
   "file_extension": ".py",
   "mimetype": "text/x-python",
   "name": "python",
   "nbconvert_exporter": "python",
   "pygments_lexer": "ipython3",
   "version": "3.7.5"
  }
 },
 "nbformat": 4,
 "nbformat_minor": 2
}
