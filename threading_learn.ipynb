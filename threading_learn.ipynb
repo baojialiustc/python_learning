{
 "cells": [
  {
   "cell_type": "code",
   "execution_count": 18,
   "metadata": {
    "pycharm": {
     "is_executing": false
    }
   },
   "outputs": [],
   "source": [
    "import threading\n",
    "import time\n",
    "import copy\n",
    "from queue import Queue"
   ]
  },
  {
   "cell_type": "markdown",
   "metadata": {},
   "source": [
    "### 使用join来控制多个线程的执行顺序\n",
    "根据join的顺序，越早加入，则越早被执行，越晚加入则越晚执行"
   ]
  },
  {
   "cell_type": "code",
   "execution_count": null,
   "metadata": {
    "pycharm": {
     "is_executing": true
    }
   },
   "outputs": [],
   "source": [
    "def task1():\n",
    "    print('task1 start \\n')\n",
    "    time.sleep(0.1)\n",
    "    print('task1 finish \\n')\n",
    "    \n",
    "def task2():\n",
    "    print('task2 start \\n')\n",
    "    time.sleep(0.1)\n",
    "    print('task2 finish \\n')"
   ]
  },
  {
   "cell_type": "markdown",
   "metadata": {},
   "source": [
    "### join位置不同的对比\n",
    "如果一个线程比另外一个线程加入主线程早，那么该线程执行顺序优先"
   ]
  },
  {
   "cell_type": "code",
   "execution_count": 11,
   "metadata": {},
   "outputs": [
    {
     "name": "stdout",
     "output_type": "stream",
     "text": [
      "task1 start \n",
      "\n",
      "task1 finish \n",
      "\n",
      "task2 start \n",
      "\n",
      "task2 finish \n",
      "\n",
      "all done \n",
      "\n"
     ]
    }
   ],
   "source": [
    "thread1 = threading.Thread(target=task1)\n",
    "thread2 = threading.Thread(target=task2)\n",
    "thread1.start()\n",
    "thread1.join()\n",
    "thread2.start()\n",
    "thread2.join()\n",
    "print('all done \\n')"
   ]
  },
  {
   "cell_type": "markdown",
   "metadata": {},
   "source": [
    "如果两个同时开始后加入，则执行时间越短越早结束"
   ]
  },
  {
   "cell_type": "code",
   "execution_count": 13,
   "metadata": {},
   "outputs": [
    {
     "name": "stdout",
     "output_type": "stream",
     "text": [
      "task1 start \n",
      "\n",
      "task2 start \n",
      "\n",
      "task1 finish \n",
      "task2 finish \n",
      "\n",
      "\n",
      "all done \n",
      "\n"
     ]
    }
   ],
   "source": [
    "thread1 = threading.Thread(target=task1)\n",
    "thread2 = threading.Thread(target=task2)\n",
    "thread1.start()\n",
    "thread2.start()\n",
    "\n",
    "thread2.join()\n",
    "thread1.join()\n",
    "print('all done \\n')"
   ]
  },
  {
   "cell_type": "markdown",
   "metadata": {},
   "source": [
    "### 带有输入的多线程\n",
    "由于线程并不能返回值，因此我们将结果压入一个队列中。多个线程中仍然存在先后执行问题。"
   ]
  },
  {
   "cell_type": "code",
   "execution_count": 16,
   "metadata": {},
   "outputs": [],
   "source": [
    "from queue import Queue"
   ]
  },
  {
   "cell_type": "code",
   "execution_count": 41,
   "metadata": {},
   "outputs": [],
   "source": [
    "def job1(data, q):\n",
    "    res = []\n",
    "    for i in data:\n",
    "        res.append(i**2)\n",
    "    q.put(res)\n",
    "    \n",
    "def job2(data, q):\n",
    "    res = []\n",
    "    time.sleep(0.2)\n",
    "    for i in data:\n",
    "        res.append(i**4+3-6-7%2)\n",
    "    q.put(res)"
   ]
  },
  {
   "cell_type": "code",
   "execution_count": 42,
   "metadata": {},
   "outputs": [
    {
     "name": "stdout",
     "output_type": "stream",
     "text": [
      "[1, 4, 9, 16]\n",
      "[-3, 12, 77, 252]\n",
      "[12, 77, 252, 621]\n"
     ]
    }
   ],
   "source": [
    "def multithreads():\n",
    "    q = Queue()\n",
    "    data = [[1,2,3,4],[1,2,3,4],[2,3,4,5]]\n",
    "    thread1 = threading.Thread(target=job1, args=(data[0], q))\n",
    "    thread1.start()\n",
    "    thread2 = threading.Thread(target=job2, args=(data[1], q))\n",
    "    thread2.start()\n",
    "    thread3 = threading.Thread(target=job2, args=(data[2], q))\n",
    "    thread3.start()\n",
    "    threads = [thread1, thread2, thread3]\n",
    "    for thread in threads:\n",
    "        thread.join()\n",
    "    for i in range(3):\n",
    "        print(q.get())\n",
    "multithreads()    "
   ]
  },
  {
   "cell_type": "markdown",
   "metadata": {},
   "source": [
    "### 全局解释器锁 Global Interpreter Lock\n",
    "一个解释器只有一个GIL，来控制所有的线程执行，以保证不会出现内存泄漏或者内存错误释放的问题，同时只有一个GIL可以保证两个锁之间的死锁问题。Cpython解释通过一个变量计数来控制变量的释放。因此需要GIL来保证，每个变量或者内存空间，不会被其他线程占用或者释放。\n",
    "这会造成一个针对CPU-bound任务的瓶颈，因为实际上多个线程并不会没有在同时工作。这可以通过multiprocess来解决，但是这个方法也存在不具有scalability的问题。但是对于I/O-bound的任务，该方法可以发挥它的作用，因为I/O操作，大部分时间处于等待时间，因此大量等待时间，可以用来多个线程之间同时切换，实现加速。下面给出两个CPU-bound和I/O-bound的例子"
   ]
  },
  {
   "cell_type": "code",
   "execution_count": 6,
   "metadata": {},
   "outputs": [],
   "source": [
    "def job_writing_file(file_name):\n",
    "    file = 'files/' + file_name\n",
    "    with open(file, 'w') as f:\n",
    "        for i in range(1000):\n",
    "            f.write('test_file.\\n')\n",
    "    f.close()\n",
    "    \n",
    "def job_couting(l, q):\n",
    "    q.put(sum(l))"
   ]
  },
  {
   "cell_type": "code",
   "execution_count": 15,
   "metadata": {},
   "outputs": [
    {
     "name": "stdout",
     "output_type": "stream",
     "text": [
      "multiple thread for file writing time: 0.010971546173095703\n",
      "single thread for file writing time: 0.007891416549682617\n"
     ]
    }
   ],
   "source": [
    "# multiple threading for file I/O\n",
    "th1 = threading.Thread(target=job_writing_file, args=([\"file_1.txt\"]))\n",
    "th2 = threading.Thread(target=job_writing_file, args=([\"file_2.txt\"]))\n",
    "multi_start = time.time()\n",
    "th1.start()\n",
    "th2.start()\n",
    "th1.join()\n",
    "th2.join()\n",
    "multi_end = time.time()\n",
    "print('multiple thread for file writing time:', multi_end-multi_start)\n",
    "single_start = time.time()\n",
    "job_writing_file('file_3.txt')\n",
    "job_writing_file('files_4.txt')\n",
    "single_end = time.time()\n",
    "print('single thread for file writing time:', single_end-single_start)"
   ]
  },
  {
   "cell_type": "code",
   "execution_count": 20,
   "metadata": {},
   "outputs": [
    {
     "name": "stdout",
     "output_type": "stream",
     "text": [
      "mulitple sum: 999000\n",
      "multiple thread for file writing time: 0.005985260009765625\n",
      "single sum: 999000\n",
      "single thread for file writing time: 0.003854513168334961\n"
     ]
    }
   ],
   "source": [
    "# multiple threading for file I/O\n",
    "l = [i for i in range(1000)]\n",
    "q = Queue()\n",
    "th3 = threading.Thread(target=job_couting, args=(l, q))\n",
    "th4 = threading.Thread(target=job_couting, args=(copy.copy(l), q))\n",
    "multi_start = time.time()\n",
    "th3.start()\n",
    "th4.start()\n",
    "th3.join()\n",
    "th4.join()\n",
    "total = 0\n",
    "for _ in range(2):\n",
    "    total += q.get()\n",
    "print('mulitple sum:', total)\n",
    "multi_end = time.time()\n",
    "print('multiple thread for file writing time:', multi_end-multi_start)\n",
    "single_start = time.time()\n",
    "job_couting(l, q)\n",
    "job_couting(l, q)\n",
    "total = 0\n",
    "for _ in range(2):\n",
    "    total += q.get()\n",
    "print('single sum:', total)\n",
    "single_end = time.time()\n",
    "print('single thread for file writing time:', single_end-single_start)"
   ]
  },
  {
   "cell_type": "code",
   "execution_count": 21,
   "metadata": {},
   "outputs": [],
   "source": [
    "def job(l, q):\n",
    "    res = sum(l)\n",
    "    q.put(res)\n",
    "\n",
    "def multithreading(l):\n",
    "    q = Queue()\n",
    "    threads = []\n",
    "    for i in range(4):\n",
    "        t = threading.Thread(target=job, args=(copy.copy(l), q), name='T%i' % i)\n",
    "        t.start()\n",
    "        threads.append(t)\n",
    "    [t.join() for t in threads]\n",
    "    total = 0\n",
    "    for _ in range(4):\n",
    "        total += q.get()\n",
    "    print(total)\n",
    "\n",
    "def normal(l):\n",
    "    total = sum(l)\n",
    "    print(total)"
   ]
  },
  {
   "cell_type": "code",
   "execution_count": 23,
   "metadata": {},
   "outputs": [
    {
     "name": "stdout",
     "output_type": "stream",
     "text": [
      "1999998000000\n",
      "normal:  0.2635996341705322\n",
      "1999998000000\n",
      "multithreading:  0.3425111770629883\n"
     ]
    }
   ],
   "source": [
    "# 多线程可能比单线程更慢\n",
    "l = list(range(1000000))\n",
    "s_t = time.time()\n",
    "normal(l*4)\n",
    "print('normal: ',time.time()-s_t)\n",
    "s_t = time.time()\n",
    "multithreading(l)\n",
    "print('multithreading: ', time.time()-s_t)"
   ]
  },
  {
   "cell_type": "markdown",
   "metadata": {},
   "source": [
    "### 线程锁\n",
    "主要用来锁定当前线程的变量不被其他线程更改"
   ]
  },
  {
   "cell_type": "code",
   "execution_count": null,
   "metadata": {},
   "outputs": [],
   "source": [
    "# 一个简单的例子\n",
    "def job1():\n",
    "    global A\n",
    "    lock.acquire()\n",
    "    for i in range(10):\n",
    "        A += i\n",
    "        print('job1', 'A=', A)\n",
    "    lock.release()\n",
    "    \n",
    "def job2():\n",
    "    global A\n",
    "    lock.acquire()\n",
    "    for i in range(10):\n",
    "        A += i*10\n",
    "        print('job2', 'A=', A)\n",
    "    lock.release()\n",
    "\n",
    "A = 0\n",
    "lock = threading.Lock()\n",
    "th1 = threading.Thread(target=job1)\n",
    "th2 = threading.Thread(target=job2)\n",
    "th1.start()\n",
    "th2.start()\n",
    "th1.join()\n",
    "th2.join()"
   ]
  }
 ],
 "metadata": {
  "kernelspec": {
   "display_name": "Python 3",
   "language": "python",
   "name": "python3"
  },
  "language_info": {
   "codemirror_mode": {
    "name": "ipython",
    "version": 3
   },
   "file_extension": ".py",
   "mimetype": "text/x-python",
   "name": "python",
   "nbconvert_exporter": "python",
   "pygments_lexer": "ipython3",
   "version": "3.6.9"
  },
  "pycharm": {
   "stem_cell": {
    "cell_type": "raw",
    "source": [],
    "metadata": {
     "collapsed": false
    }
   }
  }
 },
 "nbformat": 4,
 "nbformat_minor": 1
}