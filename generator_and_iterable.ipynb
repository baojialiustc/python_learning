{
 "cells": [
  {
   "cell_type": "markdown",
   "metadata": {
    "pycharm": {
     "metadata": false,
     "name": "#%% md\n"
    }
   },
   "source": [
    "## Differences between iterable and iterator\n",
    "Iterator is an object representing a stream of data; \n",
    "this object returns the data one element at a time. \n",
    "Iterator must support a method called __next__() that \n",
    "takes no arguments and always returns the next element of the stream.\n",
    "iter() function takes an object and tries to return an iterator.\n",
    "\n",
    "Iterable object is what we can get an iterator by iter().\n",
    "Iterable object is an object that has an __iter__() function or which define \n",
    "__getitem__ method that can tak sequential indexes.\n",
    "\n",
    "for statement will call iter() on object.\n"
   ]
  },
  {
   "cell_type": "code",
   "execution_count": 1,
   "metadata": {
    "pycharm": {
     "is_executing": false,
     "metadata": false,
     "name": "#%%\n"
    }
   },
   "outputs": [
    {
     "name": "stdout",
     "text": [
      "3\n2\n1\n"
     ],
     "output_type": "stream"
    }
   ],
   "source": [
    "# create an iterator with iter()\n",
    "L = [1, 2, 3]\n",
    "L_it = iter(L)\n",
    "# creat an iterator with define an class\n",
    "class My_iterator():\n",
    "    def __init__(self, data):\n",
    "        self.data = data\n",
    "        self.index = len(data)\n",
    "        \n",
    "    def __next__(self):\n",
    "        if self.index == 0:\n",
    "            raise StopIteration\n",
    "        self.index -= 1\n",
    "        return self.data[self.index]\n",
    "    \n",
    "    def __iter__(self):\n",
    "        return self\n",
    "\n",
    "my_iterator = My_iterator([1, 2, 3])\n",
    "# print(next(my_iterator))\n",
    "# print(next(my_iterator))\n",
    "for i in my_iterator:\n",
    "    print(i)\n",
    "# create generator with bulit-in function range\n",
    "range_it = range(1, 5)"
   ]
  },
  {
   "cell_type": "markdown",
   "metadata": {
    "pycharm": {
     "metadata": false
    }
   },
   "source": [
    "## Generator and Iterator\n",
    "Generators are a simple and powerful tool for creating iterators. \n",
    "They are written like regular functions but use the yield statement whenever they want to return data. \n"
   ]
  },
  {
   "cell_type": "code",
   "execution_count": 2,
   "metadata": {
    "pycharm": {
     "is_executing": false,
     "metadata": false,
     "name": "#%%\n"
    }
   },
   "outputs": [
    {
     "name": "stdout",
     "text": [
      "generator is called\n4\n9\n16\n25\n36\n49\n64\n81\ngenerator is finished\n0\n2\n"
     ],
     "output_type": "stream"
    }
   ],
   "source": [
    "# create generator with yield \n",
    "def square(start, stop):\n",
    "    print(\"generator is called\")\n",
    "    for i in range(start, stop):\n",
    "        yield i*i\n",
    "    print(\"generator is finished\")\n",
    "        \n",
    "generator = square(2, 10)\n",
    "print(next(generator))\n",
    "for i in generator:\n",
    "    print(i)\n",
    "# create generator with ()\n",
    "z = (i for i in range(4))\n",
    "for i in z:\n",
    "    z.send(i+2)\n",
    "    print(i)\n",
    "# generator can not be traversed twice, \n",
    "# because state (index) of generator is memorized each time it is called.\n",
    "for i in z:\n",
    "    print(i)\n",
    "    "
   ]
  },
  {
   "cell_type": "markdown",
   "metadata": {},
   "source": [
    "### Advance usages of generator\n",
    "* send function, which is used to control the indexed traversed for creating coroutine programm.\n",
    "* throw function can raise an execpetion.\n",
    "* close function can end the generator."
   ]
  },
  {
   "cell_type": "code",
   "execution_count": 3,
   "metadata": {
    "pycharm": {
     "is_executing": false,
     "metadata": false,
     "name": "#%%\n"
    }
   },
   "outputs": [
    {
     "name": "stdout",
     "text": [
      "using send function\n0\n5\n30\n91\n204\nnot using send function\n0\n1\n5\n14\n30\n55\n91\n140\n204\n285\nuse close function\n0\n"
     ],
     "output_type": "stream"
    }
   ],
   "source": [
    "# define generator\n",
    "def pow_generator(x_max):\n",
    "    sum_power_x = 0\n",
    "    for i in range(x_max):\n",
    "        sum_power_x += i**2\n",
    "        yield sum_power_x\n",
    "\n",
    "pow_gene = pow_generator(10)\n",
    "# use send function\n",
    "print(\"using send function\")\n",
    "for i in pow_gene:\n",
    "    print(i)\n",
    "    pow_gene.send(i**2)\n",
    "\n",
    "pow_gene = pow_generator(10)\n",
    "# use send function\n",
    "print(\"not using send function\")\n",
    "for i in pow_gene:\n",
    "    print(i)\n",
    "    \n",
    "# pow_gene = pow_generator(10)\n",
    "# print(\"use throw function\")\n",
    "# # throw function\n",
    "# for i in pow_gene:\n",
    "#     print(i)\n",
    "#     pow_gene.throw(ValueError(\"Throw somthing\"))\n",
    "    \n",
    "\n",
    "pow_gene = pow_generator(10)\n",
    "print(\"use close function\")\n",
    "# close function\n",
    "for i in pow_gene:\n",
    "    print(i)\n",
    "    pow_gene.close()  # raise StopIteration"
   ]
  }
 ],
 "metadata": {
  "kernelspec": {
   "display_name": "Python 3",
   "language": "python",
   "name": "python3"
  },
  "language_info": {
   "codemirror_mode": {
    "name": "ipython",
    "version": 3
   },
   "file_extension": ".py",
   "mimetype": "text/x-python",
   "name": "python",
   "nbconvert_exporter": "python",
   "pygments_lexer": "ipython3",
   "version": "3.5.3"
  },
  "stem_cell": {
   "cell_type": "raw",
   "metadata": {
    "pycharm": {
     "metadata": false
    }
   },
   "source": ""
  }
 },
 "nbformat": 4,
 "nbformat_minor": 1
}