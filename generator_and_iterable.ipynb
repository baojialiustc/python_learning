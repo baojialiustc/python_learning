{
 "cells": [
  {
   "cell_type": "markdown",
   "metadata": {
    "pycharm": {
     "metadata": false,
     "name": "#%% md\n"
    }
   },
   "source": [
    "## Differences between iterable and iterator\n",
    "Iterator is an object representing a stream of data; \n",
    "this object returns the data one element at a time. \n",
    "Iterator must support a method called __next__() that \n",
    "takes no arguments and always returns the next element of the stream.\n",
    "iter() function takes an object and tries to return an iterator.\n",
    "\n",
    "Iterable object is what we can get an iterator by iter().\n",
    "Iterable object is an object that has an __iter__() function or which define \n",
    "__getitem__ method that can tak sequential indexes.\n",
    "\n",
    "for statement will call iter() on object.\n"
   ]
  },
  {
   "cell_type": "code",
   "execution_count": 15,
   "metadata": {
    "pycharm": {
     "is_executing": false,
     "metadata": false,
     "name": "#%%\n"
    }
   },
   "outputs": [
    {
     "name": "stdout",
     "output_type": "stream",
     "text": [
      "3\n",
      "2\n",
      "1\n"
     ]
    }
   ],
   "source": [
    "# create an iterator with iter()\n",
    "L = [1, 2, 3]\n",
    "L_it = iter(L)\n",
    "# creat an iterator with define an class\n",
    "class My_iterator():\n",
    "    def __init__(self, data):\n",
    "        self.data = data\n",
    "        self.index = len(data)\n",
    "        \n",
    "    def __next__(self):\n",
    "        if self.index == 0:\n",
    "            raise StopIteration\n",
    "        self.index -= 1\n",
    "        return self.data[self.index]\n",
    "    \n",
    "    def __iter__(self):\n",
    "        return self\n",
    "\n",
    "my_iterator = My_iterator([1, 2, 3])\n",
    "# print(next(my_iterator))\n",
    "# print(next(my_iterator))\n",
    "for i in my_iterator:\n",
    "    print(i)\n",
    "# create generator with bulit-in function range\n",
    "range_it = range(1, 5)"
   ]
  },
  {
   "cell_type": "markdown",
   "metadata": {
    "pycharm": {
     "metadata": false
    }
   },
   "source": [
    "## Generator and Iterator\n",
    "Generators are a simple and powerful tool for creating iterators. \n",
    "They are written like regular functions but use the yield statement whenever they want to return data. \n"
   ]
  },
  {
   "cell_type": "code",
   "execution_count": 1,
   "metadata": {
    "pycharm": {
     "is_executing": true,
     "metadata": false,
     "name": "#%%\n"
    }
   },
   "outputs": [
    {
     "name": "stdout",
     "output_type": "stream",
     "text": [
      "generator is called\n",
      "4\n",
      "9\n",
      "16\n",
      "25\n",
      "36\n",
      "49\n",
      "64\n",
      "81\n",
      "generator is finished\n",
      "0\n",
      "2\n"
     ]
    }
   ],
   "source": [
    "# create generator with yield \n",
    "def square(start, stop):\n",
    "    print(\"generator is called\")\n",
    "    for i in range(start, stop):\n",
    "        yield i*i\n",
    "    print(\"generator is finished\")\n",
    "        \n",
    "generator = square(2, 10)\n",
    "print(next(generator))\n",
    "for i in generator:\n",
    "    print(i)\n",
    "# create generator with ()\n",
    "z = (i for i in range(4))\n",
    "for i in z:\n",
    "    z.send(i+2)\n",
    "    print(i)\n",
    "# generator can not be traversed twice, \n",
    "# because state (index) of generator is memorized each time it is called.\n",
    "for i in z:\n",
    "    print(i)\n",
    "    "
   ]
  },
  {
   "cell_type": "markdown",
   "metadata": {},
   "source": [
    "### Advance usages of generator\n",
    "* send function, which is used to control the indexed traversed for creating coroutine programm.\n",
    "* throw function can raise an execpetion.\n",
    "* close function can end the generator."
   ]
  },
  {
   "cell_type": "code",
   "execution_count": 3,
   "metadata": {
    "pycharm": {
     "is_executing": false,
     "metadata": false,
     "name": "#%%\n"
    }
   },
   "outputs": [
    {
     "name": "stdout",
     "output_type": "stream",
     "text": [
      "using send function\n",
      "0\n",
      "5\n",
      "30\n",
      "91\n",
      "204\n",
      "not using send function\n",
      "0\n",
      "1\n",
      "5\n",
      "14\n",
      "30\n",
      "55\n",
      "91\n",
      "140\n",
      "204\n",
      "285\n",
      "use close function\n",
      "0\n"
     ]
    }
   ],
   "source": [
    "# define generator\n",
    "def pow_generator(x_max):\n",
    "    sum_power_x = 0\n",
    "    for i in range(x_max):\n",
    "        sum_power_x += i**2\n",
    "        yield sum_power_x\n",
    "\n",
    "pow_gene = pow_generator(10)\n",
    "# use send function\n",
    "print(\"using send function\")\n",
    "for i in pow_gene:\n",
    "    print(i)\n",
    "    pow_gene.send(i**2)\n",
    "\n",
    "pow_gene = pow_generator(10)\n",
    "# use send function\n",
    "print(\"not using send function\")\n",
    "for i in pow_gene:\n",
    "    print(i)\n",
    "    \n",
    "# pow_gene = pow_generator(10)\n",
    "# print(\"use throw function\")\n",
    "# # throw function\n",
    "# for i in pow_gene:\n",
    "#     print(i)\n",
    "#     pow_gene.throw(ValueError(\"Throw somthing\"))\n",
    "    \n",
    "\n",
    "pow_gene = pow_generator(10)\n",
    "print(\"use close function\")\n",
    "# close function\n",
    "for i in pow_gene:\n",
    "    print(i)\n",
    "    pow_gene.close()  # raise StopIteration"
   ]
  }
 ],
 "metadata": {
  "kernelspec": {
   "display_name": "Python 3",
   "language": "python",
   "name": "python3"
  },
  "language_info": {
   "codemirror_mode": {
    "name": "ipython",
    "version": 3
   },
   "file_extension": ".py",
   "mimetype": "text/x-python",
   "name": "python",
   "nbconvert_exporter": "python",
   "pygments_lexer": "ipython3",
   "version": "3.6.8"
  },
  "stem_cell": {
   "cell_type": "raw",
   "metadata": {
    "pycharm": {
     "metadata": false
    }
   },
   "source": ""
  },
  "varInspector": {
   "cols": {
    "lenName": 16,
    "lenType": 16,
    "lenVar": 40
   },
   "kernels_config": {
    "python": {
     "delete_cmd_postfix": "",
     "delete_cmd_prefix": "del ",
     "library": "var_list.py",
     "varRefreshCmd": "print(var_dic_list())"
    },
    "r": {
     "delete_cmd_postfix": ") ",
     "delete_cmd_prefix": "rm(",
     "library": "var_list.r",
     "varRefreshCmd": "cat(var_dic_list()) "
    }
   },
   "types_to_exclude": [
    "module",
    "function",
    "builtin_function_or_method",
    "instance",
    "_Feature"
   ],
   "window_display": false
  }
 },
 "nbformat": 4,
 "nbformat_minor": 1
}
