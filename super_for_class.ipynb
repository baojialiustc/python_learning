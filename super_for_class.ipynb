{
 "cells": [
  {
   "cell_type": "markdown",
   "metadata": {
    "collapsed": true
   },
   "source": [
    "## 单继承\n",
    "在单继承中，super主要用来实现对父类方法的调用"
   ]
  },
  {
   "cell_type": "code",
   "execution_count": 2,
   "metadata": {},
   "outputs": [
    {
     "name": "stdout",
     "output_type": "stream",
     "text": [
      "self is <__main__.B object at 0x0000026759E81548> @B.add\n",
      "self is <__main__.B object at 0x0000026759E81548> @A.add\n",
      "8\n"
     ]
    }
   ],
   "source": [
    "class A:\n",
    "    def __init__(self):\n",
    "        self.n = 2\n",
    "        \n",
    "    def add(self, m):\n",
    "        print('self is {0} @A.add'.format(self))\n",
    "        self.n += m\n",
    "        \n",
    "class B(A):\n",
    "    def __init__(self):\n",
    "        self.n = 3\n",
    "    \n",
    "    def add(self, m):\n",
    "        print('self is {0} @B.add'.format(self))\n",
    "        super().add(m)\n",
    "        self.n += 3\n",
    "\n",
    "b = B()\n",
    "b.add(2)\n",
    "print(b.n)"
   ]
  },
  {
   "cell_type": "markdown",
   "metadata": {},
   "source": [
    "## 多继承\n",
    "当我们调用 super() 的时候，实际上是实例化了一个 super 类。这个类包含两个重要信息，方法解析列表（MRO）以及当前所在的类。方法解析过程只考虑当前类后的类。\n",
    "super() 实际上做了啥呢？简单来说就是：提供一个 MRO 列表以及一个 MRO 中的类 C ， super() 将返回一个从 MRO 列表中 C 之后的类中查找方法的对象。"
   ]
  },
  {
   "cell_type": "code",
   "execution_count": 5,
   "metadata": {},
   "outputs": [
    {
     "name": "stdout",
     "output_type": "stream",
     "text": [
      "self is <__main__.D object at 0x0000026759ED2A88> @D.add\n",
      "self is <__main__.D object at 0x0000026759ED2A88> @B.add\n",
      "self is <__main__.D object at 0x0000026759ED2A88> @C.add\n",
      "self is <__main__.D object at 0x0000026759ED2A88> @A.add\n",
      "19\n"
     ]
    }
   ],
   "source": [
    "class C(A):\n",
    "    def __init__(self):\n",
    "        self.n = 4\n",
    "\n",
    "    def add(self, m):\n",
    "        print('self is {0} @C.add'.format(self))\n",
    "        super().add(m)\n",
    "        self.n += 4\n",
    "\n",
    "\n",
    "class D(B, C):\n",
    "    def __init__(self):\n",
    "        self.n = 5\n",
    "\n",
    "    def add(self, m):\n",
    "        print('self is {0} @D.add'.format(self))\n",
    "        super().add(m)\n",
    "        self.n += 5\n",
    "        \n",
    "d = D()\n",
    "d.add(2)\n",
    "print(d.n)"
   ]
  },
  {
   "cell_type": "markdown",
   "metadata": {},
   "source": [
    "## 实现一个super类\n",
    "类需要包含MRO列表和当前类，并包含一个方法，可以返回包含需要查找方法的类"
   ]
  },
  {
   "cell_type": "code",
   "execution_count": null,
   "metadata": {
    "collapsed": true
   },
   "outputs": [],
   "source": [
    "from functools import partial\n",
    "\n",
    "class Super():\n",
    "    def __init__(self, sub_cls, instance):\n",
    "        # 假设 sub_cls = B, instance = D()\n",
    "        # Super(B, self).add(233)\n",
    "        mro = instance.__class__.mro()\n",
    "        # mro == [D, B, C, A, object]\n",
    "        # sub_cls is B\n",
    "        # 从 mro 中 sub_cls 后面的类中进行查找\n",
    "        # __mro_tail == [C, A, object]\n",
    "        self.__mro_tail = mro[mro.index(sub_cls)+1:]\n",
    "        self.__sub_cls = sub_cls\n",
    "        self.__instance = instance\n",
    "        \n",
    "    def __getattr__(self, name):\n",
    "        # 从 mro tail 列表的各个类中查找方法\n",
    "        for cls in self.__mro_tail:\n",
    "            if not hasattr(cls, name):\n",
    "                continue\n",
    "\n",
    "            print('call {}.{}'.format(cls, name))\n",
    "            # 获取类中定义的方法\n",
    "            attr = getattr(cls, name)\n",
    "            # 因为 d = D(); d.add(233)  等价于 D.add(d, 233)\n",
    "            # 所以返回的函数需要自动填充第一个 self 参数\n",
    "            return partial(attr, self.__instance)\n",
    "\n",
    "        raise AttributeError(name)\n",
    "        "
   ]
  }
 ],
 "metadata": {
  "kernelspec": {
   "display_name": "Python [conda env:pytorch]",
   "language": "python",
   "name": "conda-env-pytorch-py"
  },
  "language_info": {
   "codemirror_mode": {
    "name": "ipython",
    "version": 3
   },
   "file_extension": ".py",
   "mimetype": "text/x-python",
   "name": "python",
   "nbconvert_exporter": "python",
   "pygments_lexer": "ipython3",
   "version": "3.7.4"
  }
 },
 "nbformat": 4,
 "nbformat_minor": 1
}
